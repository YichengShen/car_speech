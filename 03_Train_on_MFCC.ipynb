{
 "cells": [
  {
   "cell_type": "code",
   "execution_count": null,
   "metadata": {},
   "outputs": [],
   "source": [
    "#hide\n",
    "#default_exp train_on_mfcc\n",
    "from nbdev.showdoc import show_doc"
   ]
  },
  {
   "cell_type": "markdown",
   "metadata": {},
   "source": [
    "# Train on MFCC"
   ]
  },
  {
   "cell_type": "code",
   "execution_count": null,
   "metadata": {},
   "outputs": [],
   "source": [
    "import os\n",
    "import pathlib\n",
    "import glob\n",
    "\n",
    "import numpy as np\n",
    "import tensorflow as tf\n",
    "# Use seed 66 for consistant experiments\n",
    "seed = 66\n",
    "tf.random.set_seed(seed)\n",
    "np.random.seed(seed)"
   ]
  },
  {
   "cell_type": "code",
   "execution_count": null,
   "metadata": {},
   "outputs": [
    {
     "name": "stdout",
     "output_type": "stream",
     "text": [
      "digits: ['0' '1' '2' '3' '4' '5' '6' '7' '8' '9']\n",
      "Example filename: data/avicar_somedigits/AM3_35U_D0_C1_M3.wav\n",
      "\n",
      "# examples for \"0\": 772\n",
      "# examples for \"1\": 771\n",
      "# examples for \"2\": 771\n",
      "# examples for \"3\": 771\n",
      "# examples for \"4\": 770\n",
      "# examples for \"5\": 771\n",
      "# examples for \"6\": 771\n",
      "# examples for \"7\": 770\n",
      "# examples for \"8\": 769\n",
      "# examples for \"9\": 772\n",
      "# total examples: 7708\n",
      "\n",
      "Training set size: 5395\n",
      "Test set size: 2313\n"
     ]
    }
   ],
   "source": [
    "choices = ['digits', 'letters', 'mixed']\n",
    "dataset_type = choices[0]\n",
    "\n",
    "data_dir = pathlib.Path('data/avicar_some'+dataset_type)\n",
    "\n",
    "if dataset_type == 'digits':\n",
    "    label_strings = np.array([str(num) for num in range(0,10)])\n",
    "elif dataset_type == 'letters':\n",
    "    label_strings = np.array(list(string.ascii_uppercase))\n",
    "else:\n",
    "    label_strings = np.array([str(num) for num in range(0,10)] + list(string.ascii_uppercase))\n",
    "    \n",
    "print(dataset_type + \":\", label_strings)\n",
    "\n",
    "filenames = tf.io.gfile.glob(str(data_dir)+\"*/*.wav\")\n",
    "print(\"Example filename:\", filenames[99])\n",
    "print()\n",
    "\n",
    "if dataset_type == \"digits\":\n",
    "    # Filter out non-digit files\n",
    "    filenames = [fname for fname in filenames if fname[32].isdigit()]\n",
    "    \n",
    "    # Count # of examples for each label\n",
    "    for i in range(len(label_strings)):\n",
    "        num_examples = len([fname for fname in filenames if fname[32]==label_strings[i]])\n",
    "        print(f\"\"\"# examples for \"{label_strings[i]}\": {num_examples}\"\"\")\n",
    "    \n",
    "elif dataset_type == 'letters':\n",
    "    # Filter out non-letter files\n",
    "    filenames = [fname for fname in filenames if not(fname[32].isdigit())]\n",
    "\n",
    "    # Count # of examples for each label\n",
    "    for i in range(len(label_strings)):\n",
    "        num_examples = len([fname for fname in filenames if fname[33]==label_strings[i].upper()])\n",
    "        print(f\"\"\"# examples for \"{label_strings[i]}\": {num_examples}\"\"\")\n",
    "\n",
    "num_samples = len(filenames)\n",
    "print('# total examples:', num_samples)\n",
    "print()\n",
    "\n",
    "filenames = tf.random.shuffle(filenames)\n",
    "\n",
    "TRAIN_PORTION = 0.7\n",
    "TEST_PORTION = 0.3\n",
    "\n",
    "train_end = int(num_samples*TRAIN_PORTION)\n",
    "\n",
    "train_files = filenames[:train_end]\n",
    "test_files = filenames[train_end:]\n",
    "\n",
    "print('Training set size:', len(train_files))\n",
    "print('Test set size:', len(test_files))"
   ]
  },
  {
   "cell_type": "markdown",
   "metadata": {},
   "source": [
    "### Extract MFCC"
   ]
  },
  {
   "cell_type": "code",
   "execution_count": null,
   "metadata": {},
   "outputs": [],
   "source": [
    "from python_speech_features import mfcc\n",
    "import scipy.io.wavfile as wav"
   ]
  },
  {
   "cell_type": "code",
   "execution_count": null,
   "metadata": {},
   "outputs": [],
   "source": [
    "def get_mfcc_dict(filenames):\n",
    "    mfccs = {}\n",
    "    for wave in filenames:\n",
    "        wave = wave.numpy().decode('utf-8')\n",
    "        (rate, sig) = wav.read(wave)\n",
    "        mfccs[wave] = mfcc(sig, rate, nfft=2000)\n",
    "    return mfccs"
   ]
  },
  {
   "cell_type": "code",
   "execution_count": null,
   "metadata": {},
   "outputs": [],
   "source": [
    "mfccs_train = get_mfcc_dict(train_files)\n",
    "mfccs_test = get_mfcc_dict(test_files)"
   ]
  },
  {
   "cell_type": "markdown",
   "metadata": {},
   "source": [
    "### Prepare training and testing data"
   ]
  },
  {
   "cell_type": "code",
   "execution_count": null,
   "metadata": {},
   "outputs": [],
   "source": [
    "def get_label(file_path):\n",
    "    parts = tf.strings.split(file_path, os.path.sep)\n",
    "    label = tf.strings.substr(parts[-1], pos=9, len=1)\n",
    "    label_str = label.numpy().decode('utf-8')\n",
    "    return label_str\n",
    "\n",
    "def preprocess_mfcc(mfccs):\n",
    "    X = []\n",
    "    y = []\n",
    "    for filename in mfccs:\n",
    "        X.append(np.mean(mfccs[filename], axis=0))\n",
    "        label = get_label(filename)\n",
    "        y.append(label)\n",
    "    return np.array(X), np.array(y)\n",
    "\n",
    "training_data, training_label = preprocess_mfcc(mfccs_train)\n",
    "testing_data, testing_label = preprocess_mfcc(mfccs_test)"
   ]
  },
  {
   "cell_type": "code",
   "execution_count": null,
   "metadata": {},
   "outputs": [],
   "source": [
    "from sklearn.model_selection import cross_val_score"
   ]
  },
  {
   "cell_type": "markdown",
   "metadata": {},
   "source": [
    "### SGDClassifier"
   ]
  },
  {
   "cell_type": "code",
   "execution_count": null,
   "metadata": {},
   "outputs": [
    {
     "data": {
      "text/plain": [
       "array([0.26296296, 0.30185185, 0.26481481, 0.26851852, 0.29074074,\n",
       "       0.30055659, 0.283859  , 0.30983302, 0.2987013 , 0.27087199])"
      ]
     },
     "execution_count": null,
     "metadata": {},
     "output_type": "execute_result"
    }
   ],
   "source": [
    "from sklearn.linear_model import SGDClassifier\n",
    "\n",
    "model = SGDClassifier(max_iter=10000)\n",
    "model.fit(training_data, training_label)\n",
    "\n",
    "cross_val_score(model, training_data, training_label, cv=10, scoring='accuracy')"
   ]
  },
  {
   "cell_type": "markdown",
   "metadata": {},
   "source": [
    "### GaussianNB"
   ]
  },
  {
   "cell_type": "code",
   "execution_count": null,
   "metadata": {},
   "outputs": [
    {
     "data": {
      "text/plain": [
       "array([0.32777778, 0.37592593, 0.36111111, 0.35      , 0.32962963,\n",
       "       0.33766234, 0.33951763, 0.3135436 , 0.33766234, 0.33951763])"
      ]
     },
     "execution_count": null,
     "metadata": {},
     "output_type": "execute_result"
    }
   ],
   "source": [
    "from sklearn.naive_bayes import GaussianNB\n",
    "model = GaussianNB()\n",
    "model.fit(training_data, training_label)\n",
    "\n",
    "cross_val_score(model, training_data, training_label, cv=10, scoring='accuracy')"
   ]
  },
  {
   "cell_type": "markdown",
   "metadata": {},
   "source": [
    "### MLPClassifier"
   ]
  },
  {
   "cell_type": "code",
   "execution_count": null,
   "metadata": {},
   "outputs": [
    {
     "data": {
      "text/plain": [
       "array([0.46851852, 0.45740741, 0.45      , 0.48703704, 0.47962963,\n",
       "       0.46382189, 0.48794063, 0.4471243 , 0.50463822, 0.48608534])"
      ]
     },
     "execution_count": null,
     "metadata": {},
     "output_type": "execute_result"
    }
   ],
   "source": [
    "from sklearn.neural_network import MLPClassifier\n",
    "model = MLPClassifier(max_iter=10000)\n",
    "model.fit(training_data, training_label)\n",
    "\n",
    "cross_val_score(model, training_data, training_label, cv=10, scoring='accuracy')"
   ]
  },
  {
   "cell_type": "markdown",
   "metadata": {},
   "source": [
    "### RandomForestClassifier"
   ]
  },
  {
   "cell_type": "code",
   "execution_count": null,
   "metadata": {},
   "outputs": [
    {
     "data": {
      "text/plain": [
       "array([0.43148148, 0.46666667, 0.44259259, 0.44074074, 0.42407407,\n",
       "       0.37105751, 0.43784787, 0.45083488, 0.44341373, 0.43784787])"
      ]
     },
     "execution_count": null,
     "metadata": {},
     "output_type": "execute_result"
    }
   ],
   "source": [
    "from sklearn.ensemble import RandomForestClassifier\n",
    "model = RandomForestClassifier()\n",
    "model.fit(training_data, training_label)\n",
    "\n",
    "cross_val_score(model, training_data, training_label, cv=10, scoring='accuracy')"
   ]
  },
  {
   "cell_type": "markdown",
   "metadata": {},
   "source": [
    "### KNeighborsClassifier"
   ]
  },
  {
   "cell_type": "code",
   "execution_count": null,
   "metadata": {},
   "outputs": [
    {
     "data": {
      "text/plain": [
       "array([0.33333333, 0.28148148, 0.29444444, 0.29814815, 0.29814815,\n",
       "       0.27458256, 0.29684601, 0.30797774, 0.30612245, 0.28942486])"
      ]
     },
     "execution_count": null,
     "metadata": {},
     "output_type": "execute_result"
    }
   ],
   "source": [
    "from sklearn.neighbors import KNeighborsClassifier\n",
    "model = KNeighborsClassifier()\n",
    "model.fit(training_data, training_label)\n",
    "\n",
    "cross_val_score(model, training_data, training_label, cv=10, scoring='accuracy')"
   ]
  }
 ],
 "metadata": {
  "kernelspec": {
   "display_name": "Python 3",
   "language": "python",
   "name": "python3"
  }
 },
 "nbformat": 4,
 "nbformat_minor": 4
}
