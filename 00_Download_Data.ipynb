{
 "cells": [
  {
   "cell_type": "code",
   "execution_count": null,
   "metadata": {},
   "outputs": [],
   "source": [
    "#hide\n",
    "#default_exp download_data\n",
    "from nbdev.showdoc import show_doc"
   ]
  },
  {
   "cell_type": "markdown",
   "metadata": {},
   "source": [
    "# Data Download\n",
    "> Download data and save data in data_dir. The directory name is default to 'data'."
   ]
  },
  {
   "cell_type": "markdown",
   "metadata": {},
   "source": [
    "## Dataset links\n",
    "1. From original source:\n",
    "    - Digits:   \n",
    "http://www.isle.illinois.edu/speech_web_lg/data/avicar_somedigits.zip   \n",
    "    - Letters:    \n",
    "http://www.isle.illinois.edu/speech_web_lg/data/avicar_someletters.zip\n",
    "\n",
    "2. From Google Drive:\n",
    "    - Digits:    \n",
    "https://drive.google.com/file/d/1SJlrT6kZrhtAmABcO63nVPYrACWMnthD/view?usp=sharing\n",
    "    - Letters:    \n",
    "https://drive.google.com/file/d/1TyEMlvPGVyR0xzsdmloMJF8XhAhCbiVe/view?usp=sharing\n",
    "\n",
    "The digits and letters dataset only include some recordings of single digits and letters."
   ]
  },
  {
   "cell_type": "markdown",
   "metadata": {},
   "source": [
    "## Download dataset\n",
    "Download data manually from Google Drive if the website of the original source is down. Place the downloaded folder under 'data' directory."
   ]
  },
  {
   "cell_type": "code",
   "execution_count": null,
   "metadata": {},
   "outputs": [],
   "source": [
    "#export\n",
    "import pathlib\n",
    "import tensorflow as tf"
   ]
  },
  {
   "cell_type": "code",
   "execution_count": null,
   "metadata": {},
   "outputs": [],
   "source": [
    "#export\n",
    "def download_data(dataset_type):\n",
    "    data_dir = pathlib.Path('data/avicar_some'+dataset_type)\n",
    "    \n",
    "    file_name = 'avicar_some' + dataset_type + '.zip'\n",
    "    download_link = \"http://www.isle.illinois.edu/speech_web_lg/data/avicar_some\" + dataset_type + \".zip\"\n",
    "\n",
    "    if not data_dir.exists():\n",
    "        tf.keras.utils.get_file(\n",
    "            file_name,\n",
    "            origin=download_link,\n",
    "            extract=True,\n",
    "            cache_dir='.', cache_subdir='data')\n",
    "        print(\"download completed\")\n",
    "    else:\n",
    "        print(\"data_dir already exists\")"
   ]
  },
  {
   "cell_type": "markdown",
   "metadata": {},
   "source": [
    "### Download digits data"
   ]
  },
  {
   "cell_type": "code",
   "execution_count": null,
   "metadata": {},
   "outputs": [
    {
     "name": "stdout",
     "output_type": "stream",
     "text": [
      "data_dir already exists\n"
     ]
    }
   ],
   "source": [
    "download_data('digits')"
   ]
  },
  {
   "cell_type": "markdown",
   "metadata": {},
   "source": [
    "### Download letters data"
   ]
  },
  {
   "cell_type": "code",
   "execution_count": null,
   "metadata": {},
   "outputs": [
    {
     "name": "stdout",
     "output_type": "stream",
     "text": [
      "data_dir already exists\n"
     ]
    }
   ],
   "source": [
    "download_data('letters')"
   ]
  }
 ],
 "metadata": {
  "kernelspec": {
   "display_name": "Python 3",
   "language": "python",
   "name": "python3"
  }
 },
 "nbformat": 4,
 "nbformat_minor": 4
}
