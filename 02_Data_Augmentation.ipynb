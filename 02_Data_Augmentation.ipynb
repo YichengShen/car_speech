{
 "cells": [
  {
   "cell_type": "code",
   "execution_count": null,
   "metadata": {},
   "outputs": [],
   "source": [
    "#hide\n",
    "#default_exp data_augmentation\n",
    "from nbdev.showdoc import show_doc"
   ]
  },
  {
   "cell_type": "markdown",
   "metadata": {},
   "source": [
    "# Data Augmentation"
   ]
  },
  {
   "cell_type": "code",
   "execution_count": null,
   "metadata": {},
   "outputs": [],
   "source": [
    "# from fastprogress import progress_bar\n",
    "# from fastai import *\n",
    "# import librosa\n",
    "# import soundfile as sf"
   ]
  },
  {
   "cell_type": "code",
   "execution_count": null,
   "metadata": {},
   "outputs": [],
   "source": [
    "# def audioDataTransforms(wav_file_path:str, tfms_folder_path:str) -> None:\n",
    "#     fname = str(wav_file_path).split('/')[-1].split('.')[0]\n",
    "#     print(wav_file_path)\n",
    "#     print(fname)\n",
    "#     wav, sr = librosa.load(wav_file_path,sr=None)\n",
    "#     print(wav, sr)\n",
    "\n",
    "#     #tfms 1: Noise addition:\n",
    "#     wav_n = wav + 0.009*np.random.normal(0,1,len(wav))\n",
    "\n",
    "#     #tfms 2: Shifting Sound wave:\n",
    "#     wav_roll = np.roll(wav,int(sr/10))\n",
    "\n",
    "#     #tfms 3: Time - stretching\n",
    "#     factor = 0.4\n",
    "#     wav_time_stch = librosa.effects.time_stretch(wav,factor)\n",
    "\n",
    "#     #tfms 4: Pitch - Shifting\n",
    "#     wav_pitch_sf = librosa.effects.pitch_shift(wav,sr,n_steps=-5)\n",
    "\n",
    "#     wav_tfms = [wav_n,wav_roll,wav_time_stch,wav_pitch_sf]\n",
    "\n",
    "#     sf.write(f'{tfms_folder_path}/{fname}_noise.wav', wav_n, sr)\n",
    "#     sf.write(f'{tfms_folder_path}/{fname}_sshifting.wav', wav_roll, sr)\n",
    "#     sf.write(f'{tfms_folder_path}/{fname}_stretch.wav', wav_time_stch, sr)\n",
    "#     sf.write(f'{tfms_folder_path}/{fname}_pshift.wav', wav_pitch_sf, sr)\n",
    "\n",
    "# data_path = pathlib.Path('./docs/wavefiledata/avicar_somedigits')\n",
    "# !mkdir data_augs\n",
    "# filenames = tf.io.gfile.glob(str(data_path)+\"*/*.wav\")\n",
    "# for fpath in filenames:\n",
    "#     audioDataTransforms(fpath, './data_augs')"
   ]
  }
 ],
 "metadata": {
  "kernelspec": {
   "display_name": "Python 3",
   "language": "python",
   "name": "python3"
  }
 },
 "nbformat": 4,
 "nbformat_minor": 4
}
