{
 "cells": [
  {
   "cell_type": "code",
   "execution_count": null,
   "metadata": {},
   "outputs": [],
   "source": [
    "#hide\n",
    "#default_exp fname_processing\n",
    "from nbdev.showdoc import show_doc"
   ]
  },
  {
   "cell_type": "markdown",
   "metadata": {},
   "source": [
    "# Filename Processing\n",
    "> Classify audio files according to their noise level and audio type."
   ]
  },
  {
   "cell_type": "code",
   "execution_count": null,
   "metadata": {},
   "outputs": [],
   "source": [
    "#export\n",
    "import pathlib\n",
    "import os\n",
    "import tensorflow as tf\n",
    "import numpy as np\n",
    "import pickle\n",
    "import string"
   ]
  },
  {
   "cell_type": "markdown",
   "metadata": {},
   "source": [
    "### Functions for filtering data"
   ]
  },
  {
   "cell_type": "code",
   "execution_count": null,
   "metadata": {},
   "outputs": [],
   "source": [
    "#exports\n",
    "def get_label(file_path):\n",
    "    parts = tf.strings.split(file_path, os.path.sep)\n",
    "    label_tensor = tf.strings.substr(parts[-1], pos=9, len=1)\n",
    "    label = label_tensor.numpy().decode('utf-8')\n",
    "    return label\n",
    "\n",
    "def check_type(fname, dataset_type):\n",
    "    label = get_label(fname)\n",
    "    if dataset_type == 'digits' and label.isdigit():\n",
    "        return True\n",
    "    elif dataset_type == 'letters' and not(label.isdigit()):\n",
    "        return True\n",
    "    return False\n",
    "\n",
    "def get_fnames(data_dir):\n",
    "    return tf.io.gfile.glob(str(data_dir)+\"*/*.wav\")\n",
    "\n",
    "def filter_fnames(fnames):\n",
    "    return [fname for fname in fnames if check_type(fname, dataset_type)]\n",
    "\n",
    "def show_data_count(filenames, label_strings):\n",
    "    for i in range(len(label_strings)):\n",
    "        num_examples = len([fname for fname in filenames if get_label(fname)==label_strings[i]])\n",
    "        print(f\"\"\"# examples for \"{label_strings[i]}\": {num_examples}\"\"\")\n",
    "    \n",
    "    num_samples = len(filenames)\n",
    "    print('# total examples:', num_samples)\n",
    "    print()"
   ]
  },
  {
   "cell_type": "markdown",
   "metadata": {},
   "source": [
    "### Functions for classifying noise levels"
   ]
  },
  {
   "cell_type": "code",
   "execution_count": null,
   "metadata": {},
   "outputs": [],
   "source": [
    "#exports\n",
    "noise_levels = ['IDL', '35D', '35U', '55D', '55U']\n",
    "\n",
    "def get_noise_level(file_path):\n",
    "    parts = tf.strings.split(file_path, os.path.sep)\n",
    "    level_tensor = tf.strings.substr(parts[-1], pos=4, len=3)\n",
    "    level = level_tensor.numpy().decode('utf-8')\n",
    "    return level\n",
    "\n",
    "def classify_noise_levels(fnames):\n",
    "    noise_levels = ['IDL', '35D', '35U', '55D', '55U']\n",
    "    noise_levels_dict = {}\n",
    "    # initialize empty lists\n",
    "    for level in noise_levels:\n",
    "        noise_levels_dict[level] = []\n",
    "    # put each filename into a category\n",
    "    for fname in fnames:\n",
    "        noise_level = get_noise_level(fname)\n",
    "        noise_levels_dict[noise_level].append(fname)\n",
    "    return noise_levels_dict\n",
    "    \n",
    "    "
   ]
  },
  {
   "cell_type": "markdown",
   "metadata": {},
   "source": [
    "### Functions for loading classified filenames"
   ]
  },
  {
   "cell_type": "code",
   "execution_count": null,
   "metadata": {},
   "outputs": [],
   "source": [
    "#exports\n",
    "def load_fnames(fname_path):\n",
    "    with open(fname_path, 'rb') as filehandle:\n",
    "        return pickle.load(filehandle)"
   ]
  },
  {
   "cell_type": "markdown",
   "metadata": {},
   "source": [
    "## Digits Data"
   ]
  },
  {
   "cell_type": "code",
   "execution_count": null,
   "metadata": {},
   "outputs": [],
   "source": [
    "dataset_type = 'digits'\n",
    "data_dir = pathlib.Path('data/avicar_some'+dataset_type)\n",
    "label_strings = np.array([str(num) for num in range(0,10)])"
   ]
  },
  {
   "cell_type": "code",
   "execution_count": null,
   "metadata": {},
   "outputs": [
    {
     "name": "stdout",
     "output_type": "stream",
     "text": [
      "Example filename: data/avicar_somedigits/AM3_35U_D0_C1_M3.wav\n",
      "\n",
      "# examples for \"0\": 772\n",
      "# examples for \"1\": 771\n",
      "# examples for \"2\": 771\n",
      "# examples for \"3\": 771\n",
      "# examples for \"4\": 770\n",
      "# examples for \"5\": 771\n",
      "# examples for \"6\": 771\n",
      "# examples for \"7\": 770\n",
      "# examples for \"8\": 769\n",
      "# examples for \"9\": 772\n",
      "# total examples: 7708\n",
      "\n"
     ]
    }
   ],
   "source": [
    "filenames = get_fnames(data_dir)\n",
    "print(\"Example filename:\", filenames[99])\n",
    "print()\n",
    "\n",
    "# Filter out non-digit files\n",
    "filenames = filter_fnames(filenames)\n",
    "\n",
    "# Count # of examples for each label\n",
    "show_data_count(filenames, label_strings)"
   ]
  },
  {
   "cell_type": "code",
   "execution_count": null,
   "metadata": {},
   "outputs": [],
   "source": [
    "# Classify\n",
    "noise_level_dict = classify_noise_levels(filenames)"
   ]
  },
  {
   "cell_type": "code",
   "execution_count": null,
   "metadata": {},
   "outputs": [],
   "source": [
    "# Put filenames into csv\n",
    "noise_level_dir = 'noise_levels'\n",
    "digit_dir = 'digit_noise_levels'\n",
    "csv_path = os.path.join(noise_level_dir, digit_dir)\n",
    "if not os.path.exists(csv_path):\n",
    "    os.makedirs(csv_path)\n",
    "    for level in noise_level_dict:\n",
    "        name = level + '.data'\n",
    "        file_path = os.path.join(csv_path, name)\n",
    "        with open(file_path, 'wb') as filehandle:\n",
    "            pickle.dump(noise_level_dict[level], filehandle)"
   ]
  },
  {
   "cell_type": "markdown",
   "metadata": {},
   "source": [
    "## Letters Data"
   ]
  },
  {
   "cell_type": "code",
   "execution_count": null,
   "metadata": {},
   "outputs": [],
   "source": [
    "dataset_type = 'letters'\n",
    "data_dir = pathlib.Path('data/avicar_some'+dataset_type)\n",
    "label_strings = np.array(list(string.ascii_uppercase))"
   ]
  },
  {
   "cell_type": "code",
   "execution_count": null,
   "metadata": {},
   "outputs": [
    {
     "name": "stdout",
     "output_type": "stream",
     "text": [
      "Example filename: data/avicar_someletters/AM5_35U_LN_C1_M3.wav\n",
      "\n",
      "# examples for \"A\": 543\n",
      "# examples for \"B\": 543\n",
      "# examples for \"C\": 544\n",
      "# examples for \"D\": 544\n",
      "# examples for \"E\": 544\n",
      "# examples for \"F\": 544\n",
      "# examples for \"G\": 543\n",
      "# examples for \"H\": 543\n",
      "# examples for \"I\": 544\n",
      "# examples for \"J\": 544\n",
      "# examples for \"K\": 544\n",
      "# examples for \"L\": 544\n",
      "# examples for \"M\": 542\n",
      "# examples for \"N\": 543\n",
      "# examples for \"O\": 543\n",
      "# examples for \"P\": 544\n",
      "# examples for \"Q\": 543\n",
      "# examples for \"R\": 544\n",
      "# examples for \"S\": 543\n",
      "# examples for \"T\": 544\n",
      "# examples for \"U\": 544\n",
      "# examples for \"V\": 543\n",
      "# examples for \"W\": 544\n",
      "# examples for \"X\": 544\n",
      "# examples for \"Y\": 543\n",
      "# examples for \"Z\": 544\n",
      "# total examples: 14132\n",
      "\n"
     ]
    }
   ],
   "source": [
    "filenames = get_fnames(data_dir)\n",
    "print(\"Example filename:\", filenames[99])\n",
    "print()\n",
    "\n",
    "# Filter out non-digit files\n",
    "filenames = filter_fnames(filenames)\n",
    "\n",
    "# Count # of examples for each label\n",
    "show_data_count(filenames, label_strings)"
   ]
  },
  {
   "cell_type": "code",
   "execution_count": null,
   "metadata": {},
   "outputs": [],
   "source": [
    "# Classify\n",
    "noise_level_dict = classify_noise_levels(filenames)"
   ]
  },
  {
   "cell_type": "code",
   "execution_count": null,
   "metadata": {},
   "outputs": [],
   "source": [
    "# Put filenames into csv\n",
    "noise_level_dir = 'noise_levels'\n",
    "digit_dir = 'letter_noise_levels'\n",
    "csv_path = os.path.join(noise_level_dir, digit_dir)\n",
    "if not os.path.exists(csv_path):\n",
    "    os.makedirs(csv_path)\n",
    "    for level in noise_level_dict:\n",
    "        name = level + '.data'\n",
    "        file_path = os.path.join(csv_path, name)\n",
    "        with open(file_path, 'wb') as filehandle:\n",
    "            pickle.dump(noise_level_dict[level], filehandle)"
   ]
  },
  {
   "cell_type": "markdown",
   "metadata": {},
   "source": [
    "## Mixed Data"
   ]
  },
  {
   "cell_type": "code",
   "execution_count": null,
   "metadata": {},
   "outputs": [],
   "source": [
    "dataset_type = 'mixed'\n",
    "data_dir = pathlib.Path('data/avicar_'+dataset_type)\n",
    "label_strings = label_strings = np.array([str(num) for num in range(0,10)] + list(string.ascii_uppercase))"
   ]
  },
  {
   "cell_type": "code",
   "execution_count": null,
   "metadata": {},
   "outputs": [
    {
     "name": "stdout",
     "output_type": "stream",
     "text": [
      "Example filename: data/avicar_mixed/IF3_35D_LS_C1_M3.wav\n",
      "\n",
      "# examples for \"0\": 772\n",
      "# examples for \"1\": 771\n",
      "# examples for \"2\": 771\n",
      "# examples for \"3\": 771\n",
      "# examples for \"4\": 770\n",
      "# examples for \"5\": 771\n",
      "# examples for \"6\": 771\n",
      "# examples for \"7\": 770\n",
      "# examples for \"8\": 769\n",
      "# examples for \"9\": 772\n",
      "# examples for \"A\": 543\n",
      "# examples for \"B\": 543\n",
      "# examples for \"C\": 544\n",
      "# examples for \"D\": 544\n",
      "# examples for \"E\": 544\n",
      "# examples for \"F\": 544\n",
      "# examples for \"G\": 543\n",
      "# examples for \"H\": 543\n",
      "# examples for \"I\": 544\n",
      "# examples for \"J\": 544\n",
      "# examples for \"K\": 544\n",
      "# examples for \"L\": 544\n",
      "# examples for \"M\": 542\n",
      "# examples for \"N\": 543\n",
      "# examples for \"O\": 543\n",
      "# examples for \"P\": 544\n",
      "# examples for \"Q\": 543\n",
      "# examples for \"R\": 544\n",
      "# examples for \"S\": 543\n",
      "# examples for \"T\": 544\n",
      "# examples for \"U\": 544\n",
      "# examples for \"V\": 543\n",
      "# examples for \"W\": 544\n",
      "# examples for \"X\": 544\n",
      "# examples for \"Y\": 543\n",
      "# examples for \"Z\": 544\n",
      "# total examples: 21840\n",
      "\n"
     ]
    }
   ],
   "source": [
    "filenames = get_fnames(data_dir)\n",
    "print(\"Example filename:\", filenames[99])\n",
    "print()\n",
    "\n",
    "# Filter out DD, DT, DZ\n",
    "filenames = [fname for fname in filenames if fname[26:28] not in ['DD', 'DT', 'DZ']]\n",
    "\n",
    "# Count # of examples for each label\n",
    "show_data_count(filenames, label_strings)"
   ]
  },
  {
   "cell_type": "code",
   "execution_count": null,
   "metadata": {},
   "outputs": [],
   "source": [
    "# Classify\n",
    "noise_level_dict = classify_noise_levels(filenames)"
   ]
  },
  {
   "cell_type": "code",
   "execution_count": null,
   "metadata": {},
   "outputs": [],
   "source": [
    "# Put filenames into csv\n",
    "noise_level_dir = 'noise_levels'\n",
    "digit_dir = 'mixed_noise_levels'\n",
    "csv_path = os.path.join(noise_level_dir, digit_dir)\n",
    "if not os.path.exists(csv_path):\n",
    "    os.makedirs(csv_path)\n",
    "    for level in noise_level_dict:\n",
    "        name = level + '.data'\n",
    "        file_path = os.path.join(csv_path, name)\n",
    "        with open(file_path, 'wb') as filehandle:\n",
    "            pickle.dump(noise_level_dict[level], filehandle)"
   ]
  }
 ],
 "metadata": {
  "kernelspec": {
   "display_name": "Python 3",
   "language": "python",
   "name": "python3"
  }
 },
 "nbformat": 4,
 "nbformat_minor": 4
}
