{
 "cells": [
  {
   "cell_type": "code",
   "execution_count": null,
   "metadata": {},
   "outputs": [],
   "source": [
    "#hide\n",
    "from car_speech.download_data import *\n",
    "from car_speech.fname_processing import load_fnames"
   ]
  },
  {
   "cell_type": "markdown",
   "metadata": {},
   "source": [
    "# CarSpeech\n",
    "\n",
    "> Speech recognition for noisy environments in cars."
   ]
  },
  {
   "cell_type": "markdown",
   "metadata": {},
   "source": [
    "## How to Download Data"
   ]
  },
  {
   "cell_type": "markdown",
   "metadata": {},
   "source": [
    "Download digits data"
   ]
  },
  {
   "cell_type": "code",
   "execution_count": null,
   "metadata": {},
   "outputs": [
    {
     "name": "stdout",
     "output_type": "stream",
     "text": [
      "data_dir already exists\n"
     ]
    }
   ],
   "source": [
    "download_data('digits')"
   ]
  },
  {
   "cell_type": "markdown",
   "metadata": {},
   "source": [
    "Download letters data"
   ]
  },
  {
   "cell_type": "code",
   "execution_count": null,
   "metadata": {},
   "outputs": [
    {
     "name": "stdout",
     "output_type": "stream",
     "text": [
      "data_dir already exists\n"
     ]
    }
   ],
   "source": [
    "download_data('letters')"
   ]
  },
  {
   "cell_type": "markdown",
   "metadata": {},
   "source": [
    "## Load Filenames Classified based on Noise Levels\n",
    "`filenames = load_fnames(\"REPLACE Path Here\")`"
   ]
  },
  {
   "cell_type": "code",
   "execution_count": null,
   "metadata": {},
   "outputs": [
    {
     "name": "stdout",
     "output_type": "stream",
     "text": [
      "number of files: 1538\n"
     ]
    }
   ],
   "source": [
    "filenames = load_fnames(\"noise_levels/digit_noise_levels/55U.data\")\n",
    "print('number of files:', len(filenames))"
   ]
  },
  {
   "cell_type": "markdown",
   "metadata": {},
   "source": [
    "## Pipeline for Feature Extraction\n",
    "See Notebook <strong>04_Pipeline</strong> for details. An example is provided at the end of that notebook."
   ]
  },
  {
   "cell_type": "markdown",
   "metadata": {},
   "source": [
    "## Training and Model Selection\n",
    "See Notebook <strong>03, 05, 06, 07 and 08</strong> for details."
   ]
  },
  {
   "cell_type": "markdown",
   "metadata": {},
   "source": [
    "## Results"
   ]
  },
  {
   "cell_type": "markdown",
   "metadata": {},
   "source": [
    "### 1. 10-Fold CV Accuracy (%) of CNN on Digits Data"
   ]
  },
  {
   "cell_type": "markdown",
   "metadata": {},
   "source": [
    "| Fold \t| IDL \t| 35U \t| 35D \t| 55U \t| 55D \t| Average \t|\n",
    "|:-----:|:---:\t|:---:\t|:---:\t|:---:\t|:---:\t|:-------:\t|\n",
    "|   1  \t|  85 \t|   87 \t|   82 \t|   84 \t|  61  \t|    80    \t|\n",
    "|   2  \t|  87  \t|   78\t|    67\t|  79  \t|  64  \t|    75    \t|\n",
    "|   3  \t|  88  \t|   86 \t|   79 \t| 84   \t|  67  \t|    80    \t|\n",
    "|   4  \t|  82  \t|    78\t|   75 \t|   74 \t|  64  \t|    75    \t|\n",
    "|   5  \t|  79  \t|    77\t|   82 \t|    81\t|   73 \t|    78   \t|\n",
    "|   6  \t|  82  \t|    81\t|   73 \t|    75\t|  66  \t|    75    \t|\n",
    "|   7  \t|  78  \t|    86\t|   65 \t|     77|  71  \t|   75     \t|\n",
    "|   8  \t|  83  \t|    75\t|   81 \t|     75|  70  \t|    77    \t|\n",
    "|   9  \t|  77  \t|    79\t|    75\t|     80|  68  \t|    76    \t|\n",
    "|  10  \t|  76  \t|    78\t|   76\t|     87|  69  \t|    77    \t|\n",
    "| Avg. \t|  82  \t|    80 |    76\t|   80 \t|  67  \t|     77  \t|"
   ]
  },
  {
   "cell_type": "markdown",
   "metadata": {},
   "source": [
    "<span style=\"color:red\">TODO: Turn this into box plot</span>"
   ]
  },
  {
   "cell_type": "markdown",
   "metadata": {},
   "source": [
    "### 2. 10-Fold CV Accuracy (%) of CNN on Letters Data"
   ]
  },
  {
   "cell_type": "markdown",
   "metadata": {},
   "source": [
    "| Fold \t| IDL \t| 35U \t| 35D \t| 55U \t| 55D \t| Average \t|\n",
    "|:----:\t|:---:\t|:---:\t|:---:\t|:---:\t|:---:\t|:-------:\t|\n",
    "|   1  \t|  57\t|  55  \t|  42  \t|  49  \t|  48  \t|    50    \t|\n",
    "|   2  \t|  53  \t|  54  \t|  49  \t|  61  \t|  43  \t|    52    \t|\n",
    "|   3  \t|  52  \t|  55  \t|  54  \t|  58  \t|  40  \t|    52    \t|\n",
    "|   4  \t|  62  \t|  53  \t|  47  \t|  68  \t|  43  \t|    55    \t|\n",
    "|   5  \t|  53  \t|  54  \t|  46  \t|  59  \t|  39  \t|    50    \t|\n",
    "|   6  \t|  60  \t|  56  \t|  48  \t|  57  \t|  43  \t|    53    \t|\n",
    "|   7  \t|  59  \t|  57  \t|  50  \t|  58  \t|  44  \t|    54    \t|\n",
    "|   8  \t|  57  \t|  56  \t|  44  \t|  61  \t|  45  \t|    53    \t|\n",
    "|   9  \t|  60  \t|  59  \t|  49  \t|  56  \t|  47  \t|    54    \t|\n",
    "|  10  \t|  54  \t|  49  \t|  44 \t|  59  \t|  41  \t|    49    \t|\n",
    "| Avg. \t|  57  \t|  55  \t|  47  \t|  59  \t|  43  \t|    52    \t|"
   ]
  },
  {
   "cell_type": "markdown",
   "metadata": {},
   "source": [
    "### 3. 10-Fold CV Accuracy (%) of CNN on Mixed Data"
   ]
  },
  {
   "cell_type": "markdown",
   "metadata": {},
   "source": [
    "| Fold \t| IDL \t| 35U \t| 35D \t| 55U \t| 55D \t| Average \t|\n",
    "|:----:\t|:---:\t|:---:\t|:---:\t|:---:\t|:---:\t|:-------:\t|\n",
    "|   1  \t|  61 \t|  58  \t|  55  \t|  61  \t|  44  \t|  56      \t|\n",
    "|   2  \t|  63  \t|  61  \t|  53  \t|  62  \t|  47  \t|  57      \t|\n",
    "|   3  \t|  66  \t|  58  \t|  53  \t|  59  \t|  50  \t|  57      \t|\n",
    "|   4  \t|  59  \t|  56  \t|  54  \t|  57  \t|  46  \t|  54      \t|\n",
    "|   5  \t|  62  \t|  57  \t|  56  \t|  55  \t|  46  \t|  55      \t|\n",
    "|   6  \t|  56  \t|  58  \t|  53  \t|  63  \t|  48  \t|  56      \t|\n",
    "|   7  \t|  62  \t|  61  \t|  47  \t|  61  \t|  48  \t|  56      \t|\n",
    "|   8  \t|  62  \t|  60  \t|  56  \t|  61  \t|  50  \t|  58      \t|\n",
    "|   9  \t|  59  \t|  63  \t|  56  \t|  60  \t|  48  \t|  57      \t|\n",
    "|  10  \t|  56  \t|  62  \t|  57 \t|  60  \t|  43  \t|  56      \t|\n",
    "| Avg. \t|  61  \t|  59  \t|  54  \t|  60  \t|  47  \t|  56      \t|"
   ]
  },
  {
   "cell_type": "code",
   "execution_count": null,
   "metadata": {},
   "outputs": [],
   "source": []
  }
 ],
 "metadata": {
  "kernelspec": {
   "display_name": "Python 3",
   "language": "python",
   "name": "python3"
  }
 },
 "nbformat": 4,
 "nbformat_minor": 2
}
