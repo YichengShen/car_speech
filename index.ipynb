{
 "cells": [
  {
   "cell_type": "code",
   "execution_count": null,
   "metadata": {},
   "outputs": [],
   "source": [
    "#hide\n",
    "from car_speech.download_data import *\n",
    "from car_speech.fname_processing import load_fnames"
   ]
  },
  {
   "cell_type": "markdown",
   "metadata": {},
   "source": [
    "# CarSpeech\n",
    "\n",
    "> Speech recognition for noisy environments in cars."
   ]
  },
  {
   "cell_type": "markdown",
   "metadata": {},
   "source": [
    "## How to Download Data"
   ]
  },
  {
   "cell_type": "markdown",
   "metadata": {},
   "source": [
    "Download digits data"
   ]
  },
  {
   "cell_type": "code",
   "execution_count": null,
   "metadata": {},
   "outputs": [
    {
     "name": "stdout",
     "output_type": "stream",
     "text": [
      "data_dir already exists\n"
     ]
    }
   ],
   "source": [
    "download_data('digits')"
   ]
  },
  {
   "cell_type": "markdown",
   "metadata": {},
   "source": [
    "Download letters data"
   ]
  },
  {
   "cell_type": "code",
   "execution_count": null,
   "metadata": {},
   "outputs": [
    {
     "name": "stdout",
     "output_type": "stream",
     "text": [
      "data_dir already exists\n"
     ]
    }
   ],
   "source": [
    "download_data('letters')"
   ]
  },
  {
   "cell_type": "markdown",
   "metadata": {},
   "source": [
    "## Load Filenames Classified based on Noise Levels\n",
    "`filenames = load_fnames(\"REPLACE Path Here\")`"
   ]
  },
  {
   "cell_type": "code",
   "execution_count": null,
   "metadata": {},
   "outputs": [
    {
     "name": "stdout",
     "output_type": "stream",
     "text": [
      "number of files: 1538\n"
     ]
    }
   ],
   "source": [
    "filenames = load_fnames(\"noise_levels/digit_noise_levels/55U.data\")\n",
    "print('number of files:', len(filenames))"
   ]
  },
  {
   "cell_type": "markdown",
   "metadata": {},
   "source": [
    "## Pipeline for Feature Extraction\n",
    "See Notebook <strong>04_Pipeline</strong> for details. An example is provided at the end of that notebook."
   ]
  },
  {
   "cell_type": "markdown",
   "metadata": {},
   "source": [
    "## Training and Model Selection\n",
    "See Notebook <strong>03, 05, 06, 07 and 08</strong> for details."
   ]
  },
  {
   "cell_type": "markdown",
   "metadata": {},
   "source": [
    "## Results"
   ]
  },
  {
   "cell_type": "markdown",
   "metadata": {},
   "source": [
    "### 1. 10-Fold CV Accuracy (%) of CNN on Digits Data"
   ]
  },
  {
   "cell_type": "markdown",
   "metadata": {},
   "source": [
    "| Fold \t| IDL \t| 35U \t| 35D \t| 55U \t| 55D \t| Average \t|\n",
    "|:-----:|:---:\t|:---:\t|:---:\t|:---:\t|:---:\t|:-------:\t|\n",
    "|   1  \t|  85 \t|    \t|    \t|     \t|     \t|         \t|\n",
    "|   2  \t|  80  \t|    \t|    \t|     \t|     \t|         \t|\n",
    "|   3  \t|  81  \t|    \t|    \t|     \t|     \t|         \t|\n",
    "|   4  \t|  78  \t|    \t|    \t|     \t|     \t|         \t|\n",
    "|   5  \t|  84  \t|    \t|    \t|     \t|     \t|         \t|\n",
    "|   6  \t|  85  \t|    \t|    \t|     \t|     \t|         \t|\n",
    "|   7  \t|  83  \t|    \t|    \t|     \t|     \t|         \t|\n",
    "|   8  \t|  77  \t|    \t|    \t|     \t|     \t|         \t|\n",
    "|   9  \t|  80  \t|    \t|    \t|     \t|     \t|         \t|\n",
    "|  10  \t|  87  \t|    \t|   \t|     \t|     \t|         \t|\n",
    "| Avg. \t|  82  \t|       |    \t|     \t|     \t|         \t|"
   ]
  },
  {
   "cell_type": "markdown",
   "metadata": {},
   "source": [
    "<span style=\"color:red\">TODO: Turn this into box plot</span>"
   ]
  },
  {
   "cell_type": "markdown",
   "metadata": {},
   "source": [
    "### 2. 10-Fold CV Accuracy (%) of CNN on Letters Data"
   ]
  },
  {
   "cell_type": "markdown",
   "metadata": {},
   "source": [
    "| Fold \t| IDL \t| 35U \t| 35D \t| 55U \t| 55D \t| Average \t|\n",
    "|:----:\t|:---:\t|:---:\t|:---:\t|:---:\t|:---:\t|:-------:\t|\n",
    "|   1  \t|   \t|     \t|    \t|     \t|     \t|         \t|\n",
    "|   2  \t|    \t|     \t|    \t|     \t|     \t|         \t|\n",
    "|   3  \t|    \t|     \t|    \t|     \t|     \t|         \t|\n",
    "|   4  \t|    \t|     \t|    \t|     \t|     \t|         \t|\n",
    "|   5  \t|    \t|     \t|    \t|     \t|     \t|         \t|\n",
    "|   6  \t|    \t|     \t|    \t|     \t|     \t|         \t|\n",
    "|   7  \t|    \t|     \t|    \t|     \t|     \t|         \t|\n",
    "|   8  \t|     \t|     \t|    \t|     \t|     \t|         \t|\n",
    "|   9  \t|     \t|     \t|    \t|     \t|     \t|         \t|\n",
    "|  10  \t|     \t|     \t|   \t|     \t|     \t|         \t|\n",
    "| Avg. \t|     \t|     \t|    \t|     \t|     \t|         \t|"
   ]
  },
  {
   "cell_type": "markdown",
   "metadata": {},
   "source": [
    "### 3. 10-Fold CV Accuracy (%) of CNN on Mixed Data"
   ]
  },
  {
   "cell_type": "markdown",
   "metadata": {},
   "source": [
    "| Fold \t| IDL \t| 35U \t| 35D \t| 55U \t| 55D \t| Average \t|\n",
    "|:----:\t|:---:\t|:---:\t|:---:\t|:---:\t|:---:\t|:-------:\t|\n",
    "|   1  \t|  53 \t|     \t|    \t|     \t|     \t|         \t|\n",
    "|   2  \t|  53  \t|     \t|    \t|     \t|     \t|         \t|\n",
    "|   3  \t|  57  \t|     \t|    \t|     \t|     \t|         \t|\n",
    "|   4  \t|  60  \t|     \t|    \t|     \t|     \t|         \t|\n",
    "|   5  \t|  56  \t|     \t|    \t|     \t|     \t|         \t|\n",
    "|   6  \t|  56  \t|     \t|    \t|     \t|     \t|         \t|\n",
    "|   7  \t|  58  \t|     \t|    \t|     \t|     \t|         \t|\n",
    "|   8  \t|  60  \t|     \t|    \t|     \t|     \t|         \t|\n",
    "|   9  \t|  57  \t|     \t|    \t|     \t|     \t|         \t|\n",
    "|  10  \t|  54  \t|     \t|   \t|     \t|     \t|         \t|\n",
    "| Avg. \t|  56  \t|     \t|    \t|     \t|     \t|         \t|"
   ]
  },
  {
   "cell_type": "code",
   "execution_count": null,
   "metadata": {},
   "outputs": [],
   "source": []
  }
 ],
 "metadata": {
  "kernelspec": {
   "display_name": "Python 3",
   "language": "python",
   "name": "python3"
  }
 },
 "nbformat": 4,
 "nbformat_minor": 2
}
